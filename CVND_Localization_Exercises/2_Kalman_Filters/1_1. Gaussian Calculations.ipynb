{
 "cells": [
  {
   "cell_type": "markdown",
   "metadata": {},
   "source": [
    "# Gaussians\n",
    "\n",
    "We know that Gaussian equations contain two main parameters: \n",
    "* a mean, $\\mu$, and\n",
    "* a variance, often written as its square value, $\\sigma^2$.\n",
    "\n",
    "The general Gaussian equation looks like this:\n",
    "\n",
    "> $p(x) = \\frac{1}{{ \\sqrt {2\\pi \\sigma ^2 } }}e^{{ - ( {x - \\mu } )^2 }/{2\\sigma ^2 }}$\n",
    "\n",
    "\n",
    "Where we'll call the first part of the equation the *coefficient* and the second part the *exponential*. This second part is most important in defining the shape of the Gaussian (the coefficient is a normalizing term).\n",
    "\n",
    "For uncertain, continuous quantities, such as the estimated location of a self-driving car, **we use Gaussians to represent uncertainty** in that quantity. The smaller the variance, the more certain we are about a quantity."
   ]
  },
  {
   "cell_type": "code",
   "execution_count": 3,
   "metadata": {},
   "outputs": [],
   "source": [
    "# import math functions\n",
    "from math import *\n",
    "import matplotlib.pyplot as plt\n",
    "import numpy as np\n",
    "\n",
    "# gaussian function\n",
    "def f(mu, sigma2, x):\n",
    "    ''' f takes in a mean and squared variance, and an input x\n",
    "       and returns the gaussian value.'''\n",
    "    coefficient = 1.0 / sqrt(2.0 * pi *sigma2)\n",
    "    exponential = exp(-0.5 * (x-mu) ** 2 / sigma2)\n",
    "    return coefficient * exponential\n",
    " "
   ]
  },
  {
   "cell_type": "code",
   "execution_count": 6,
   "metadata": {},
   "outputs": [
    {
     "name": "stdout",
     "output_type": "stream",
     "text": [
      "0.12098536225957168\n"
     ]
    }
   ],
   "source": [
    "# an example Gaussian\n",
    "gauss_1 = f(10, 4, 8)\n",
    "print(gauss_1)"
   ]
  },
  {
   "cell_type": "markdown",
   "metadata": {},
   "source": [
    "### Plotting a Gaussian\n",
    "\n",
    "Since our function only returns values for specific values of x, we can plot a Gaussian by looping through a range of x values and creating a resulting list of Gaussian values, `g`, as shown below. You're encouraged to see what happens if you change the values of `mu` and `sigma2`."
   ]
  },
  {
   "cell_type": "code",
   "execution_count": 8,
   "metadata": {},
   "outputs": [
    {
     "data": {
      "text/plain": [
       "[<matplotlib.lines.Line2D at 0x7f1383ff5ef0>]"
      ]
     },
     "execution_count": 8,
     "metadata": {},
     "output_type": "execute_result"
    },
    {
     "data": {
      "image/png": "[encoded data removed]",
      "text/plain": [
       "<matplotlib.figure.Figure at 0x7f1384077b38>"
      ]
     },
     "metadata": {},
     "output_type": "display_data"
    }
   ],
   "source": [
    "# display a gaussian over a range of x values\n",
    "# define the parameters\n",
    "mu = 10\n",
    "sigma2 = 4\n",
    "\n",
    "# define a range of x values\n",
    "x_axis = np.arange(0, 20, 0.1)\n",
    "\n",
    "# create a corresponding list of gaussian values\n",
    "g = []\n",
    "for x in x_axis:\n",
    "    g.append(f(mu, sigma2, x))\n",
    "\n",
    "# plot the result \n",
    "plt.plot(x_axis, g)"
   ]
  },
  {
   "cell_type": "markdown",
   "metadata": {},
   "source": [
    "Look at the plot above and take note of the value of the peak. This is the **maximum** value of the Gaussian and we can calculate it exactly by setting `x = mu`."
   ]
  },
  {
   "cell_type": "code",
   "execution_count": 8,
   "metadata": {},
   "outputs": [
    {
     "name": "stdout",
     "output_type": "stream",
     "text": [
      "0.19947114020071635\n"
     ]
    }
   ],
   "source": [
    "# maximize a Gaussian by setting mu and x equal\n",
    "gauss_2 = f(10, 4, 10)\n",
    "print(gauss_2)"
   ]
  },
  {
   "cell_type": "code",
   "execution_count": null,
   "metadata": {
    "collapsed": true
   },
   "outputs": [],
   "source": []
  }
 ],
 "metadata": {
  "kernelspec": {
   "display_name": "Python 3",
   "language": "python",
   "name": "python3"
  },
  "language_info": {
   "codemirror_mode": {
    "name": "ipython",
    "version": 3
   },
   "file_extension": ".py",
   "mimetype": "text/x-python",
   "name": "python",
   "nbconvert_exporter": "python",
   "pygments_lexer": "ipython3",
   "version": "3.6.2"
  }
 },
 "nbformat": 4,
 "nbformat_minor": 2
}
