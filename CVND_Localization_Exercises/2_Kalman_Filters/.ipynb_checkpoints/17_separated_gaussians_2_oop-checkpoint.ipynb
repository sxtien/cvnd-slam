{
 "cells": [
  {
   "cell_type": "code",
   "execution_count": 2,
   "metadata": {},
   "outputs": [
    {
     "name": "stdout",
     "output_type": "stream",
     "text": [
      "('posterior mean:', 12, 'variance:', 1.6)\n"
     ]
    }
   ],
   "source": [
    "class Gaussian():\n",
    "    \n",
    "    def __init__(self, mean, variance):\n",
    "        self.mu = mean\n",
    "        self.sigma2 = variance\n",
    "        \n",
    "    def evaluate(self, x):\n",
    "        coefficient = 1.0 / sqrt(2.0 * pi *self.sigma2)\n",
    "        exponential = exp(-0.5 * (x-self.mu) ** 2 / self.sigma2)\n",
    "        return coefficient * exponential\n",
    "        \n",
    "    def __mul__(self, other):\n",
    "        # calculate new mean\n",
    "        denominator = self.sigma2 + other.sigma2\n",
    "        numerator = self.mu * other.sigma2 + other.mu * self.sigma2\n",
    "        new_mu = numerator / denominator\n",
    "        \n",
    "        # calcuate new variance\n",
    "        new_var = 1.0 / ( (1.0 / self.sigma2) + (1.0 / other.sigma2) )\n",
    "        \n",
    "        # generate new gaussian\n",
    "        return Gaussian(new_mu, new_var)\n",
    "\n",
    "prior = Gaussian(10, 8)\n",
    "measurement = Gaussian(13, 2)\n",
    "posterior = prior * measurement\n",
    "\n",
    "print(\"posterior mean:\", posterior.mu, \"variance:\", posterior.sigma2)"
   ]
  },
  {
   "cell_type": "code",
   "execution_count": null,
   "metadata": {
    "collapsed": true
   },
   "outputs": [],
   "source": []
  }
 ],
 "metadata": {
  "kernelspec": {
   "display_name": "Python 2",
   "language": "python",
   "name": "python2"
  },
  "language_info": {
   "codemirror_mode": {
    "name": "ipython",
    "version": 2
   },
   "file_extension": ".py",
   "mimetype": "text/x-python",
   "name": "python",
   "nbconvert_exporter": "python",
   "pygments_lexer": "ipython2",
   "version": "2.7.13"
  }
 },
 "nbformat": 4,
 "nbformat_minor": 2
}
