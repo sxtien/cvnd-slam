{
 "cells": [
  {
   "cell_type": "markdown",
   "metadata": {},
   "source": [
    "# The Robot World\n",
    "\n",
    "A robot, much like you, perceives the world through its \"senses.\" For example, self-driving cars use video, radar, and Lidar, to observe the world around them. As cars gather data, they build up a 3D world of observations that tells the car where it is, where other objects (like trees, pedestrians, and other vehicles) are, and where it should be going! \n",
    "\n",
    "In this section, we'll be working with first a 1D then a 2D representation of the world for simplicity, and because two dimensions are often all you'll need to solve a certain problem. \n",
    "* You'll be given a set of quizzes to solve to build up your understanding of robot localization. \n",
    "* Try your best to solve these quizzes and consult the solution if you get stuck or want to confirm your answer.\n",
    "\n",
    "<img src=\"files/images/lidar.png\" width=\"50%\" height=\"50%\">\n",
    "\n",
    "\n",
    "These grid representations of the environment are known as **discrete** representations. Discrete just means a limited number of places a robot can be (ex. in one grid cell). That's because robots, and autonomous vehicles like self-driving cars, use maps to figure out where they are, and maps lend themselves to being divided up into grids and sections.\n",
    "\n",
    "You'll see **continuous** probability distributions when locating objects that are moving around the robot. Continuous means that these objects can be anywhere around the robot and their movement is smooth.\n",
    "\n",
    "So, let's start with the 1D case."
   ]
  },
  {
   "cell_type": "markdown",
   "metadata": {},
   "source": [
    "### Robot World 1-D\n",
    "\n",
    "First, imagine you have a robot living in a 1-D world. You can think of a 1D world as a one-lane road. \n",
    "\n",
    "<img src=\"images/road_1.png\" width=\"50%\" height=\"50%\">\n",
    "\n",
    "We can treat this road as an array, and break it up into grid cells for a robot to understand. In this case, the road is a 1D grid with 5 different spaces. The robot can only move forwards or backwards. If the robot falls off the grid, it will loop back around to the other side (this is known as a cyclic world).\n",
    "\n",
    "<img src=\"images/numbered_grid.png\" width=\"50%\" height=\"50%\">\n",
    "\n",
    "### Uniform Distribution\n",
    "\n",
    "The robot has a map so that it knows there are only 5 spaces in this 1D world. However, it hasn't sensed anything or moved. For a length of 5 cells (a list of 5 values), what is the probability distribution, `p`, that the robot is in any one of these locations?\n",
    "\n",
    "Since the robot does not know where it is at first, the probability of being in any space is the same! This is a probability distribution and so the sum of all these probabilities should be equal to 1, so `1/5 spaces = 0.2`. A distribution in which all the probabilities are the same (and we have maximum uncertainty) is called a **uniform distribution**.\n"
   ]
  },
  {
   "cell_type": "code",
   "execution_count": null,
   "metadata": {
    "collapsed": true
   },
   "outputs": [],
   "source": [
    "# importing resources\n",
    "import matplotlib.pyplot as plt\n",
    "import numpy as np"
   ]
  },
  {
   "cell_type": "code",
   "execution_count": 9,
   "metadata": {},
   "outputs": [
    {
     "name": "stdout",
     "output_type": "stream",
     "text": [
      "[0.2, 0.2, 0.2, 0.2, 0.2]\n"
     ]
    }
   ],
   "source": [
    "# uniform distribution for 5 grid cells\n",
    "p = [0.2, 0.2, 0.2, 0.2, 0.2]\n",
    "print(p)\n"
   ]
  },
  {
   "cell_type": "markdown",
   "metadata": {},
   "source": [
    "I'll aslo include a helper function for visualizing this distribution. The below function, `display_map` will output a bar chart showing the probability that a robot is in each grid space. The y-axis has a range of 0 to 1 for the range of probabilities. For a uniform distribution, this will look like a flat line. You can choose the width of each bar to be <= 1 should you want to space these out. "
   ]
  },
  {
   "cell_type": "code",
   "execution_count": 18,
   "metadata": {},
   "outputs": [
    {
     "data": {
      "image/png": "[encoded data removed]",
      "text/plain": [
       "<matplotlib.figure.Figure at 0x110213550>"
      ]
     },
     "metadata": {},
     "output_type": "display_data"
    }
   ],
   "source": [
    "def display_map(grid, bar_width=1):\n",
    "    if(len(grid) > 0):\n",
    "        x_labels = range(len(grid))\n",
    "        plt.bar(x_labels, height=grid, width=bar_width, color='b')\n",
    "        plt.xlabel('Grid Cell')\n",
    "        plt.ylabel('Probability')\n",
    "        plt.ylim(0, 1) # range of 0-1 for probability values \n",
    "        plt.title('Probability of the robot being at each cell in the grid')\n",
    "        plt.xticks(np.arange(min(x_labels), max(x_labels)+1, 1))\n",
    "        plt.show()\n",
    "    else:\n",
    "        print('Grid is empty')\n",
    "\n",
    "# call function on grid, p, from before\n",
    "display_map(p)"
   ]
  },
  {
   "cell_type": "markdown",
   "metadata": {},
   "source": [
    "Now, what about if the world was 8 grid cells in length instead of 5?\n",
    "\n",
    "### QUIZ: Write a function that takes in the number of spaces in the robot's world (in this case 8), and returns the initial probability distribution `p` that the robot is in each space. \n",
    "\n",
    "This function should store the probabilities in a list. So in this example, there would be a list with 8 probabilities."
   ]
  },
  {
   "cell_type": "code",
   "execution_count": 19,
   "metadata": {
    "collapsed": true
   },
   "outputs": [],
   "source": [
    "# ex. initialize_robot(5) = [0.2, 0.2, 0.2, 0.2, 0.2]\n",
    "def initialize_robot(grid_length):\n",
    "    ''' Takes in a grid length and returns \n",
    "       a uniform distribution of location probabilities'''\n",
    "    p = []\n",
    "    return p\n"
   ]
  },
  {
   "cell_type": "code",
   "execution_count": 20,
   "metadata": {},
   "outputs": [
    {
     "name": "stdout",
     "output_type": "stream",
     "text": [
      "[]\n",
      "Grid is empty\n"
     ]
    }
   ],
   "source": [
    "grid = initialize_robot(8)\n",
    "print(grid)\n",
    "display_map(grid)"
   ]
  },
  {
   "cell_type": "markdown",
   "metadata": {},
   "source": [
    "Now write a function that outputs the probability that the robot is at a specific point on the grid. The inputs to the function are the grid itself and the position of interest."
   ]
  },
  {
   "cell_type": "code",
   "execution_count": null,
   "metadata": {
    "collapsed": true
   },
   "outputs": [],
   "source": [
    "def output_probability(grid, position):\n",
    "    if position < len(grid):\n",
    "        return grid[position]\n",
    "    else:\n",
    "        return\n",
    "\n",
    "output_probability(grid_results, 3)"
   ]
  },
  {
   "cell_type": "markdown",
   "metadata": {},
   "source": []
  },
  {
   "cell_type": "code",
   "execution_count": null,
   "metadata": {
    "collapsed": true
   },
   "outputs": [],
   "source": [
    "def output_map(grid, bar_width=1):\n",
    "    x_labels = range(len(grid))\n",
    "    plt.bar(x_labels, height=grid, width=bar_width, color='b')\n",
    "    plt.xlabel('Grid Cell')\n",
    "    plt.ylabel('Probability')\n",
    "    plt.ylim(0, 1) # range of 0-1 for probability density \n",
    "    plt.title('Probability of the robot being at each cell in the grid')\n",
    "    plt.xticks(np.arange(min(x_labels), max(x_labels)+1, 1))\n",
    "    plt.show()"
   ]
  },
  {
   "cell_type": "markdown",
   "metadata": {},
   "source": [
    "Now there's just one more thing to do. As the robot moves around, it will update its belief about where it is on the map. You'll learn about this in the localization lesson that comes up next. For now, you don't need to understand how the robot figures out where it is; you'll learn that soon.\n",
    "\n",
    "For now, write a function that updates the robot's belief about where it is. The function has these inputs:\n",
    "* a list containing the probabilities that the robot is at each spot on the grid\n",
    "* a list of lists. Each element in the list has two entries: the first entry is a point on the map grid, and the second entry is the new probability.\n",
    "\n",
    "Here is some example input:\n",
    "\n",
    "The robot is initialized with an 5-grid map, so the probabilities are in a list robot_grid = [0.2, 0.2, 0.2, 0.2, 0.2].\n",
    "The robot figures out that it actually has a .4 probability of being at the first spot robot_grid[0] and 0.15 probability of being at all the other spots. So the second input looks like this [[0, .4], [1, 0.15], [2, 0.15], [3, 0.15], [4, 0.15]]\n",
    "\n",
    "The output of the function would be the new probabilities:\n",
    "[0.4, 0.15, 0.15, 0.15, 0.15]"
   ]
  },
  {
   "cell_type": "code",
   "execution_count": null,
   "metadata": {
    "collapsed": true
   },
   "outputs": [],
   "source": [
    "def update_probabilities(grid, updates):\n",
    "    for update in updates:\n",
    "        grid[update[0]] = update[1] \n",
    "    return grid"
   ]
  },
  {
   "cell_type": "code",
   "execution_count": null,
   "metadata": {
    "collapsed": true
   },
   "outputs": [],
   "source": [
    "update_probabilities([0.2, 0.2, 0.2, 0.2, 0.2], [[1, .15], [0, 0.4], [2, 0.15], [3, 0.15], [4, 0.15]])"
   ]
  },
  {
   "cell_type": "markdown",
   "metadata": {},
   "source": [
    "### Robot World 2-D\n",
    "\n",
    "Now you'll use a 2-D grid instead of a 1-D grid. But you're going to do the same three things that you did for the 1-D case:\n",
    "* write a function that initializes probabilities across the grid\n",
    "* write a function that outputs the probability that the robot is at a specific point on the grid\n",
    "* write a function to visualize the probabilities of the grid\n",
    "* write a function to update probabilities on the grid\n",
    "\n",
    "But now you're going to put all of this functionality into something called a class. "
   ]
  },
  {
   "cell_type": "markdown",
   "metadata": {},
   "source": [
    "##### What is a class?\n",
    "Say you are a car manufacturer building a self-driving car. This week, your company is going to build ten cars that are exactly identical. The only difference between the cars is that each one will have a different exterior paint color. \n",
    "\n",
    "Each time you build a car, are you going to have the engineering team design and build the car from scratch? No!\n",
    "\n",
    "Instead, you will design the car once and then use a set of plans to manufacturer all of the cars. In this case, the only change from car to car will be the body color. But you don't need to do everything from scratch just to change the body color!\n",
    "\n",
    "This is how a class works in programming. Consider now that you're writing a software program to monitor the location of all ten cars. Instead of copying and pasting the same code for each car, you could create a self-driving car **class**. The class is like a design plan representing what a car is and how it should behave in your program. \n",
    "\n",
    "Once you've created a class represnting a car, you can quickly add as many cars as you want to your program."
   ]
  },
  {
   "cell_type": "markdown",
   "metadata": {},
   "source": [
    "#### Class Syntax in Python"
   ]
  },
  {
   "cell_type": "code",
   "execution_count": null,
   "metadata": {
    "collapsed": true
   },
   "outputs": [],
   "source": [
    "class SelfDrivingCar():\n",
    "    def __init__(self, rows, columns):\n",
    "        self.grid_size = [rows, columns]\n",
    "        self.num_elements = rows * columns\n",
    "        self.map = []\n",
    "        \n",
    "    def initialize_grid(self):\n",
    "        probability = 1/self.num_elements\n",
    "        \n",
    "        for i in range(self.grid_size[0]):\n",
    "            entry = []\n",
    "            for j in range(self.grid_size[1]):\n",
    "                entry.append(probability)\n",
    "            self.map.append(entry)\n",
    "            print(self.map)\n",
    "        return self.map\n",
    "    \n",
    "    def output_probability(self, grid_point):\n",
    "        return self.map[grid_point[0]][grid_point[1]]\n",
    "    \n",
    "    def update_probability(self, update_list):\n",
    "        for grid_point in update_list:\n",
    "            print(grid_point[0])\n",
    "            self.map[grid_point[0]][grid_point[1]] = grid_point[2]\n",
    "        "
   ]
  },
  {
   "cell_type": "code",
   "execution_count": null,
   "metadata": {
    "collapsed": true
   },
   "outputs": [],
   "source": [
    "redCar = SelfDrivingCar(5,6)"
   ]
  },
  {
   "cell_type": "code",
   "execution_count": null,
   "metadata": {
    "collapsed": true
   },
   "outputs": [],
   "source": [
    "mygrid = redCar.initialize_grid()"
   ]
  },
  {
   "cell_type": "code",
   "execution_count": null,
   "metadata": {
    "collapsed": true
   },
   "outputs": [],
   "source": [
    "print(redCar.output_probability([4,5]))\n",
    "print(mygrid)"
   ]
  },
  {
   "cell_type": "code",
   "execution_count": null,
   "metadata": {
    "collapsed": true
   },
   "outputs": [],
   "source": [
    "redCar.update_probability([[3,4,.01], [4,5,.02], [0, 1, .02]])"
   ]
  },
  {
   "cell_type": "code",
   "execution_count": null,
   "metadata": {
    "collapsed": true
   },
   "outputs": [],
   "source": [
    "import pprint\n",
    "pp = pprint.PrettyPrinter(indent=4)\n",
    "\n",
    "print(redCar.output_probability([3,4]))\n",
    "pp.pprint(mygrid)"
   ]
  },
  {
   "cell_type": "code",
   "execution_count": null,
   "metadata": {
    "collapsed": true
   },
   "outputs": [],
   "source": [
    "plt.imshow(mygrid, cmap='Greys', clim=(0,.1))\n",
    "plt.show()\n",
    "\n",
    "# from pandas import DataFrame\n",
    "# plt.pcolor(DataFrame(mygrid), cmap='Greys')\n",
    "# plt.show()"
   ]
  },
  {
   "cell_type": "code",
   "execution_count": null,
   "metadata": {
    "collapsed": true
   },
   "outputs": [],
   "source": [
    "import seaborn as sns\n",
    "%matplotlib inline\n",
    "sns.heatmap(DataFrame(mygrid), cmap='Greens', annot=True, linewidths=.5)"
   ]
  },
  {
   "cell_type": "code",
   "execution_count": null,
   "metadata": {
    "collapsed": true
   },
   "outputs": [],
   "source": []
  }
 ],
 "metadata": {
  "kernelspec": {
   "display_name": "Python [default]",
   "language": "python",
   "name": "python3"
  },
  "language_info": {
   "codemirror_mode": {
    "name": "ipython",
    "version": 3
   },
   "file_extension": ".py",
   "mimetype": "text/x-python",
   "name": "python",
   "nbconvert_exporter": "python",
   "pygments_lexer": "ipython3",
   "version": "3.6.4"
  }
 },
 "nbformat": 4,
 "nbformat_minor": 2
}
